{
 "cells": [
  {
   "cell_type": "markdown",
   "metadata": {},
   "source": [
    "# Лабораторная работа №1: Поиск подстроки в строке\n",
    "### 18ПМИ Богородицкая Екатерина, Сазанов Дмитрий, Селивановская Дарья"
   ]
  },
  {
   "cell_type": "code",
   "execution_count": 1,
   "metadata": {},
   "outputs": [],
   "source": [
    "from knuth_morris_pratt import knuth_morris_pratt as kmp\n",
    "from naive import naive\n",
    "from aho_corasick import aho_corasick as ac\n",
    "from boyer_moore_horspool import boyer_moore_horspool as bmh\n",
    "from rabin_karp import rabin_karp as rk"
   ]
  },
  {
   "cell_type": "code",
   "execution_count": 2,
   "metadata": {},
   "outputs": [],
   "source": [
    "bad_w = []\n",
    "bad_t = []\n",
    "good_w = []\n",
    "good_t = []\n",
    "for i in range(1,5):\n",
    "    f = open('benchmarks/bad_w_' + str(i) + '.txt', encoding='utf-8')\n",
    "    bad_w.append(f.read())\n",
    "    f.close()\n",
    "    f = open('benchmarks/bad_t_' + str(i) + '.txt', encoding='utf-8')\n",
    "    bad_t.append(f.read())\n",
    "    f.close()\n",
    "    f = open('benchmarks/good_w_' + str(i) + '.txt', encoding='utf-8')\n",
    "    good_w.append(f.read())\n",
    "    f.close()\n",
    "    f = open('benchmarks/good_t_' + str(i) + '.txt', encoding='utf-8')\n",
    "    good_t.append(f.read())\n",
    "    f.close()\n",
    "#print(bad_w)\n",
    "#print(bad_t)\n",
    "#print(good_w)\n",
    "#print(good_t)"
   ]
  },
  {
   "cell_type": "code",
   "execution_count": 3,
   "metadata": {},
   "outputs": [],
   "source": [
    "algorithms = [kmp, naive, ac, bmh, rk]\n",
    "#algorithms = [ac]"
   ]
  },
  {
   "cell_type": "markdown",
   "metadata": {},
   "source": [
    "<h3>Время работы</h3>"
   ]
  },
  {
   "cell_type": "code",
   "execution_count": 4,
   "metadata": {},
   "outputs": [],
   "source": [
    "import time\n",
    "\n",
    "\n",
    "def check_time(f, *args):\n",
    "    start = time.time()\n",
    "    f(*args)\n",
    "    return time.time() - start"
   ]
  },
  {
   "cell_type": "code",
   "execution_count": 5,
   "metadata": {},
   "outputs": [],
   "source": [
    "mas_text = bad_t + good_t\n",
    "mas_pat = bad_w + good_w"
   ]
  },
  {
   "cell_type": "code",
   "execution_count": 6,
   "metadata": {},
   "outputs": [
    {
     "name": "stdout",
     "output_type": "stream",
     "text": [
      "knuth_morris_pratt\n",
      "Test 1 время работы =  0.00010285377502441406\n",
      "Test 2 время работы =  0.00011663436889648437\n",
      "Test 3 время работы =  0.0012163162231445313\n",
      "Test 4 время работы =  0.008805203437805175\n",
      "Test 5 время работы =  0.0010000228881835937\n",
      "Test 6 время работы =  0.0014239311218261718\n",
      "Test 7 время работы =  0.004204964637756348\n",
      "Test 8 время работы =  0.013412117958068848\n",
      "\n",
      "naive\n",
      "Test 1 время работы =  0.0\n",
      "Test 2 время работы =  0.0011039972305297852\n",
      "Test 3 время работы =  0.08047342300415039\n",
      "Test 4 время работы =  4.350687766075135\n",
      "Test 5 время работы =  0.0009054899215698242\n",
      "Test 6 время работы =  0.0015000343322753907\n",
      "Test 7 время работы =  0.0044448614120483395\n",
      "Test 8 время работы =  0.012900972366333007\n",
      "\n",
      "aho_corasick\n",
      "Test 1 время работы =  0.00010395050048828125\n",
      "Test 2 время работы =  0.0006964206695556641\n",
      "Test 3 время работы =  0.01301436424255371\n",
      "Test 4 время работы =  0.8062058210372924\n",
      "Test 5 время работы =  0.002101492881774902\n",
      "Test 6 время работы =  0.010702991485595703\n",
      "Test 7 время работы =  0.1600804805755615\n",
      "Test 8 время работы =  0.02970287799835205\n",
      "\n",
      "boyer_moore_horspool\n",
      "Test 1 время работы =  0.0\n",
      "Test 2 время работы =  0.00019855499267578124\n",
      "Test 3 время работы =  0.0020134449005126953\n",
      "Test 4 время работы =  0.008604860305786133\n",
      "Test 5 время работы =  0.00020000934600830078\n",
      "Test 6 время работы =  9.999275207519531e-05\n",
      "Test 7 время работы =  0.0007999897003173828\n",
      "Test 8 время работы =  0.0011963844299316406\n",
      "\n",
      "rabin_karp\n",
      "Test 1 время работы =  0.0\n",
      "Test 2 время работы =  0.00010328292846679687\n",
      "Test 3 время работы =  0.0018009662628173829\n",
      "Test 4 время работы =  0.007695293426513672\n",
      "Test 5 время работы =  0.0011571884155273438\n",
      "Test 6 время работы =  0.0020011425018310546\n",
      "Test 7 время работы =  0.007797813415527344\n",
      "Test 8 время работы =  0.01871984004974365\n",
      "\n"
     ]
    }
   ],
   "source": [
    "for a in algorithms:\n",
    "    print(a.__name__)\n",
    "    mas_time = []\n",
    "    temp = 0.\n",
    "    for i in range(8):\n",
    "        temp = 0.\n",
    "        #print(mas_text[i])\n",
    "        if a.__name__ == 'aho_corasick':\n",
    "            pat = [mas_pat[i]]\n",
    "        else:\n",
    "            pat = mas_pat[i]\n",
    "        #print(ord(mas_text[i][0]))\n",
    "        for j in range(10):\n",
    "            temp += check_time(a, mas_text[i], pat)\n",
    "        print(\"Test\", i+1, \"время работы = \", temp/10)\n",
    "    print('')"
   ]
  },
  {
   "cell_type": "markdown",
   "metadata": {},
   "source": [
    "<h3>Количество сравнений</h3>"
   ]
  },
  {
   "cell_type": "code",
   "execution_count": 13,
   "metadata": {},
   "outputs": [
    {
     "name": "stdout",
     "output_type": "stream",
     "text": [
      "knuth_morris_pratt\n"
     ]
    },
    {
     "ename": "IndexError",
     "evalue": "list index out of range",
     "output_type": "error",
     "traceback": [
      "\u001b[1;31m---------------------------------------------------------------------------\u001b[0m",
      "\u001b[1;31mIndexError\u001b[0m                                Traceback (most recent call last)",
      "\u001b[1;32m<ipython-input-13-39c840f338b7>\u001b[0m in \u001b[0;36m<module>\u001b[1;34m\u001b[0m\n\u001b[0;32m     10\u001b[0m         \u001b[1;32mif\u001b[0m \u001b[0ma\u001b[0m\u001b[1;33m.\u001b[0m\u001b[0m__name__\u001b[0m\u001b[1;33m:\u001b[0m\u001b[1;33m\u001b[0m\u001b[1;33m\u001b[0m\u001b[0m\n\u001b[0;32m     11\u001b[0m             \u001b[1;32mfor\u001b[0m \u001b[0msubstr\u001b[0m \u001b[1;32min\u001b[0m \u001b[0mans\u001b[0m\u001b[1;33m:\u001b[0m\u001b[1;33m\u001b[0m\u001b[1;33m\u001b[0m\u001b[0m\n\u001b[1;32m---> 12\u001b[1;33m                 \u001b[0mans\u001b[0m \u001b[1;33m=\u001b[0m \u001b[0mans\u001b[0m\u001b[1;33m[\u001b[0m\u001b[0msubstr\u001b[0m\u001b[1;33m]\u001b[0m\u001b[1;33m\u001b[0m\u001b[1;33m\u001b[0m\u001b[0m\n\u001b[0m\u001b[0;32m     13\u001b[0m         \u001b[0mprint\u001b[0m\u001b[1;33m(\u001b[0m\u001b[1;34m\"Test\"\u001b[0m\u001b[1;33m,\u001b[0m \u001b[0mi\u001b[0m\u001b[1;33m+\u001b[0m\u001b[1;36m1\u001b[0m\u001b[1;33m,\u001b[0m \u001b[1;34m\"количество сравнений = \"\u001b[0m\u001b[1;33m,\u001b[0m \u001b[0mcomp\u001b[0m\u001b[1;33m,\u001b[0m \u001b[1;34m\", позиции = \"\u001b[0m\u001b[1;33m,\u001b[0m \u001b[0mans\u001b[0m\u001b[1;33m)\u001b[0m\u001b[1;33m\u001b[0m\u001b[1;33m\u001b[0m\u001b[0m\n\u001b[0;32m     14\u001b[0m     \u001b[0mprint\u001b[0m\u001b[1;33m(\u001b[0m\u001b[1;34m''\u001b[0m\u001b[1;33m)\u001b[0m\u001b[1;33m\u001b[0m\u001b[1;33m\u001b[0m\u001b[0m\n",
      "\u001b[1;31mIndexError\u001b[0m: list index out of range"
     ]
    }
   ],
   "source": [
    "for a in algorithms:\n",
    "    print(a.__name__)\n",
    "    for i in range(8):\n",
    "        if a.__name__ == 'aho_corasick':\n",
    "            pat = [mas_pat[i]]\n",
    "        else:\n",
    "            pat = mas_pat[i]\n",
    "        #print(pat)\n",
    "        ans, comp = a(mas_text[i], pat)\n",
    "        if a.__name__:\n",
    "            for substr in ans:\n",
    "                ans = ans[substr]\n",
    "        print(\"Test\", i+1, \"количество сравнений = \", comp, \", позиции = \", ans)\n",
    "    print('')"
   ]
  },
  {
   "cell_type": "code",
   "execution_count": null,
   "metadata": {},
   "outputs": [],
   "source": []
  }
 ],
 "metadata": {
  "kernelspec": {
   "display_name": "Python 3",
   "language": "python",
   "name": "python3"
  },
  "language_info": {
   "codemirror_mode": {
    "name": "ipython",
    "version": 3
   },
   "file_extension": ".py",
   "mimetype": "text/x-python",
   "name": "python",
   "nbconvert_exporter": "python",
   "pygments_lexer": "ipython3",
   "version": "3.8.3"
  }
 },
 "nbformat": 4,
 "nbformat_minor": 4
}
