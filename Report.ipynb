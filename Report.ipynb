{
 "cells": [
  {
   "cell_type": "code",
   "execution_count": 1,
   "metadata": {},
   "outputs": [
    {
     "name": "stdout",
     "output_type": "stream",
     "text": [
      "Populating the interactive namespace from numpy and matplotlib\n"
     ]
    },
    {
     "name": "stderr",
     "output_type": "stream",
     "text": [
      "C:\\Users\\dsazanov\\Anaconda3\\lib\\site-packages\\IPython\\core\\magics\\pylab.py:159: UserWarning: pylab import has clobbered these variables: ['floor', 'repeat', 'product', 'randint', 'compress', 'gcd']\n",
      "`%matplotlib` prevents importing * from pylab and numpy\n",
      "  warn(\"pylab import has clobbered these variables: %s\"  % clobbered +\n"
     ]
    }
   ],
   "source": [
    "import numpy as np\n",
    "import networkx as nx\n",
    "from collections import defaultdict\n",
    "from math import gcd, floor\n",
    "from random import randint\n",
    "import time\n",
    "from itertools import *\n",
    "\n",
    "%matplotlib notebook\n",
    "import matplotlib.pyplot as plt\n",
    "%pylab inline"
   ]
  },
  {
   "cell_type": "markdown",
   "metadata": {},
   "source": [
    "<h3>Алгоритм Кнута–Морриса-Пратта</h3>"
   ]
  },
  {
   "cell_type": "code",
   "execution_count": 2,
   "metadata": {},
   "outputs": [],
   "source": [
    "def prefix(st):\n",
    "    output = [0]\n",
    "    \n",
    "    for i in range(1,len(st)):\n",
    "        j = output[i-1]\n",
    "\n",
    "        while j > 0 and st[j] != st[i]:\n",
    "            j = output[j-1]\n",
    "            \n",
    "        if st[j] == st[i]:\n",
    "            j = j + 1\n",
    "            \n",
    "        output.append(j)\n",
    "    return output\n",
    "\n",
    "def kn_mor_pr(text, st):\n",
    "    compare = 0\n",
    "    pref = prefix(st)\n",
    "    mas = []\n",
    "    i = 0\n",
    "    j = 0\n",
    "    \n",
    "    while i < len(text):\n",
    "        compare += 1\n",
    "        if text[i] == st[j]:\n",
    "            if j == len(st) - 1:\n",
    "                mas.append(i - len(st) + 1)\n",
    "                if pref[j] != 0:\n",
    "                    i = i - j\n",
    "                j = 0\n",
    "            else:\n",
    "                j += 1\n",
    "            i += 1\n",
    "\n",
    "        elif j:     \n",
    "            j = pref[j-1]\n",
    "        else:\n",
    "            if i >= len(text) - len(st) and text[i] != st[0]: #если остаток текста >= длине слова и первый символ не совпадает\n",
    "                return mas, compare\n",
    "            i += 1\n",
    "    return mas, compare"
   ]
  },
  {
   "cell_type": "code",
   "execution_count": 3,
   "metadata": {},
   "outputs": [
    {
     "data": {
      "text/plain": [
       "([1, 3], 10)"
      ]
     },
     "execution_count": 3,
     "metadata": {},
     "output_type": "execute_result"
    }
   ],
   "source": [
    "ex1 = 'aababa'\n",
    "ex2 = 'aba'\n",
    "kn_mor_pr(ex1, ex2)"
   ]
  },
  {
   "cell_type": "code",
   "execution_count": 4,
   "metadata": {},
   "outputs": [
    {
     "data": {
      "text/plain": [
       "([0, 7, 11], 26)"
      ]
     },
     "execution_count": 4,
     "metadata": {},
     "output_type": "execute_result"
    }
   ],
   "source": [
    "ex1 = 'abcdabcabcdabcdab'\n",
    "ex2 = 'abcda'\n",
    "kn_mor_pr(ex1, ex2)"
   ]
  },
  {
   "cell_type": "markdown",
   "metadata": {},
   "source": [
    "<h3>Наивный алгоритм</h3>"
   ]
  },
  {
   "cell_type": "code",
   "execution_count": 5,
   "metadata": {},
   "outputs": [],
   "source": [
    "def naive(text, st):\n",
    "    mas = []\n",
    "    i = 0\n",
    "    j = 0\n",
    "    compare = 0\n",
    "    \n",
    "    while i < len(text):\n",
    "        compare += 1\n",
    "        if text[i] == st[j]:\n",
    "            \n",
    "            if j == len(st)-1:\n",
    "                mas.append(i+1 - len(st))\n",
    "                i = i-j + 1\n",
    "                j = 0\n",
    "                \n",
    "            else:\n",
    "                i += 1\n",
    "                j += 1\n",
    "                \n",
    "        elif j != 0:\n",
    "            i = i-j + 1\n",
    "            j = 0\n",
    "        else:\n",
    "            if i >= len(text) - len(st) and text[i] != st[0]: #если остаток текста >= длине слова и первый символ не совпадает\n",
    "                return mas, compare\n",
    "            i += 1\n",
    "    return mas, compare  "
   ]
  },
  {
   "cell_type": "code",
   "execution_count": 6,
   "metadata": {},
   "outputs": [
    {
     "data": {
      "text/plain": [
       "([1, 3], 10)"
      ]
     },
     "execution_count": 6,
     "metadata": {},
     "output_type": "execute_result"
    }
   ],
   "source": [
    "ex1 = 'aababa'\n",
    "ex2 = 'aba'\n",
    "naive(ex1, ex2)"
   ]
  },
  {
   "cell_type": "code",
   "execution_count": 7,
   "metadata": {},
   "outputs": [
    {
     "data": {
      "text/plain": [
       "([0, 7, 11], 28)"
      ]
     },
     "execution_count": 7,
     "metadata": {},
     "output_type": "execute_result"
    }
   ],
   "source": [
    "ex1 = 'abcdabcabcdabcdab'\n",
    "ex2 = 'abcda'\n",
    "naive(ex1, ex2)"
   ]
  },
  {
   "cell_type": "code",
   "execution_count": 8,
   "metadata": {},
   "outputs": [
    {
     "data": {
      "text/plain": [
       "([1], 9)"
      ]
     },
     "execution_count": 8,
     "metadata": {},
     "output_type": "execute_result"
    }
   ],
   "source": [
    "ex1 = 'aabacba'\n",
    "ex2 = 'aba'\n",
    "naive(ex1, ex2)"
   ]
  },
  {
   "cell_type": "code",
   "execution_count": 9,
   "metadata": {},
   "outputs": [
    {
     "data": {
      "text/plain": [
       "([1, 4], 12)"
      ]
     },
     "execution_count": 9,
     "metadata": {},
     "output_type": "execute_result"
    }
   ],
   "source": [
    "ex1 = 'aabaaba'\n",
    "ex2 = 'aba'\n",
    "naive(ex1, ex2)"
   ]
  },
  {
   "cell_type": "markdown",
   "metadata": {},
   "source": [
    "<h3>Время работы</h3>"
   ]
  },
  {
   "cell_type": "code",
   "execution_count": 10,
   "metadata": {},
   "outputs": [],
   "source": [
    "bad_t_1 = 'aaaaaaaaab'\n",
    "bad_t_2 = 'aaaaaaaaaaaaaaaaaaaaaaaaaaaaaaaaaaaaaaaaaaaaaaaaaaaaaaaaaaaaaaaaaaaaaaaaaaaaaaaaaaaaaaaaaaaaaaaaaaab'\n",
    "bad_t_3 = 'aaaaaaaaaaaaaaaaaaaaaaaaaaaaaaaaaaaaaaaaaaaaaaaaaaaaaaaaaaaaaaaaaaaaaaaaaaaaaaaaaaaaaaaaaaaaaaaaaaaaaaaaaaaaaaaaaaaaaaaaaaaaaaaaaaaaaaaaaaaaaaaaaaaaaaaaaaaaaaaaaaaaaaaaaaaaaaaaaaaaaaaaaaaaaaaaaaaaaaaaaaaaaaaaaaaaaaaaaaaaaaaaaaaaaaaaaaaaaaaaaaaaaaaaaaaaaaaaaaaaaaaaaaaaaaaaaaaaaaaaaaaaaaaaaaaaaaaaaaaaaaaaaaaaaaaaaaaaaaaaaaaaaaaaaaaaaaaaaaaaaaaaaaaaaaaaaaaaaaaaaaaaaaaaaaaaaaaaaaaaaaaaaaaaaaaaaaaaaaaaaaaaaaaaaaaaaaaaaaaaaaaaaaaaaaaaaaaaaaaaaaaaaaaaaaaaaaaaaaaaaaaaaaaaaaaaaaaaaaaaaaaaaaaaaaaaaaaaaaaaaaaaaaaaaaaaaaaaaaaaaaaaaaaaaaaaaaaaaaaaaaaaaaaaaaaaaaaaaaaaaaaaaaaaaaaaaaaaaaaaaaaaaaaaaaaaaaaaaaaaaaaaaaaaaaaaaaaaaaaaaaaaaaaaaaaaaaaaaaaaaaaaaaaaaaaaaaaaaaaaaaaaaaaaaaaaaaaaaaaaaaaaaaaaaaaaaaaaaaaaaaaaaaaaaaaaaaaaaaaaaaaaaaaaaaaaaaaaaaaaaaaaaaaaaaaaaaaaaaaaaaaaaaaaaaaaaaaaaaaaaaaaaaaaaaaaaaaaaaaaaaaaaaaaaaaaaaaaaaaaaaaaaaaaaaaaaaaaaaaaaaaaaaaaaaaaaaaaaaaaaaaaaaaaaaaaaaaaaaaaaaaaaaaaaaaaaaaaaaaaaaaaaaaaaaaaaaaaaaaaaaaaaaaaaaaaaaaaaaaaaaaaaaaaaaaaaaaaaaaaaaaaaaaaaaaaaaaaaaaaaaaaaaaaaaaaaaaaaaab'\n",
    "bad_t_4 = 'aaaaaaaaaaaaaaaaaaaaaaaaaaaaaaaaaaaaaaaaaaaaaaaaaaaaaaaaaaaaaaaaaaaaaaaaaaaaaaaaaaaaaaaaaaaaaaaaaaaaaaaaaaaaaaaaaaaaaaaaaaaaaaaaaaaaaaaaaaaaaaaaaaaaaaaaaaaaaaaaaaaaaaaaaaaaaaaaaaaaaaaaaaaaaaaaaaaaaaaaaaaaaaaaaaaaaaaaaaaaaaaaaaaaaaaaaaaaaaaaaaaaaaaaaaaaaaaaaaaaaaaaaaaaaaaaaaaaaaaaaaaaaaaaaaaaaaaaaaaaaaaaaaaaaaaaaaaaaaaaaaaaaaaaaaaaaaaaaaaaaaaaaaaaaaaaaaaaaaaaaaaaaaaaaaaaaaaaaaaaaaaaaaaaaaaaaaaaaaaaaaaaaaaaaaaaaaaaaaaaaaaaaaaaaaaaaaaaaaaaaaaaaaaaaaaaaaaaaaaaaaaaaaaaaaaaaaaaaaaaaaaaaaaaaaaaaaaaaaaaaaaaaaaaaaaaaaaaaaaaaaaaaaaaaaaaaaaaaaaaaaaaaaaaaaaaaaaaaaaaaaaaaaaaaaaaaaaaaaaaaaaaaaaaaaaaaaaaaaaaaaaaaaaaaaaaaaaaaaaaaaaaaaaaaaaaaaaaaaaaaaaaaaaaaaaaaaaaaaaaaaaaaaaaaaaaaaaaaaaaaaaaaaaaaaaaaaaaaaaaaaaaaaaaaaaaaaaaaaaaaaaaaaaaaaaaaaaaaaaaaaaaaaaaaaaaaaaaaaaaaaaaaaaaaaaaaaaaaaaaaaaaaaaaaaaaaaaaaaaaaaaaaaaaaaaaaaaaaaaaaaaaaaaaaaaaaaaaaaaaaaaaaaaaaaaaaaaaaaaaaaaaaaaaaaaaaaaaaaaaaaaaaaaaaaaaaaaaaaaaaaaaaaaaaaaaaaaaaaaaaaaaaaaaaaaaaaaaaaaaaaaaaaaaaaaaaaaaaaaaaaaaaaaaaaaaaaaaaaaaaaaaaaaaaaaaaaaaaaaaaaaaaaaaaaaaaaaaaaaaaaaaaaaaaaaaaaaaaaaaaaaaaaaaaaaaaaaaaaaaaaaaaaaaaaaaaaaaaaaaaaaaaaaaaaaaaaaaaaaaaaaaaaaaaaaaaaaaaaaaaaaaaaaaaaaaaaaaaaaaaaaaaaaaaaaaaaaaaaaaaaaaaaaaaaaaaaaaaaaaaaaaaaaaaaaaaaaaaaaaaaaaaaaaaaaaaaaaaaaaaaaaaaaaaaaaaaaaaaaaaaaaaaaaaaaaaaaaaaaaaaaaaaaaaaaaaaaaaaaaaaaaaaaaaaaaaaaaaaaaaaaaaaaaaaaaaaaaaaaaaaaaaaaaaaaaaaaaaaaaaaaaaaaaaaaaaaaaaaaaaaaaaaaaaaaaaaaaaaaaaaaaaaaaaaaaaaaaaaaaaaaaaaaaaaaaaaaaaaaaaaaaaaaaaaaaaaaaaaaaaaaaaaaaaaaaaaaaaaaaaaaaaaaaaaaaaaaaaaaaaaaaaaaaaaaaaaaaaaaaaaaaaaaaaaaaaaaaaaaaaaaaaaaaaaaaaaaaaaaaaaaaaaaaaaaaaaaaaaaaaaaaaaaaaaaaaaaaaaaaaaaaaaaaaaaaaaaaaaaaaaaaaaaaaaaaaaaaaaaaaaaaaaaaaaaaaaaaaaaaaaaaaaaaaaaaaaaaaaaaaaaaaaaaaaaaaaaaaaaaaaaaaaaaaaaaaaaaaaaaaaaaaaaaaaaaaaaaaaaaaaaaaaaaaaaaaaaaaaaaaaaaaaaaaaaaaaaaaaaaaaaaaaaaaaaaaaaaaaaaaaaaaaaaaaaaaaaaaaaaaaaaaaaaaaaaaaaaaaaaaaaaaaaaaaaaaaaaaaaaaaaaaaaaaaaaaaaaaaaaaaaaaaaaaaaaaaaaaaaaaaaaaaaaaaaaaaaaaaaaaaaaaaaaaaaaaaaaaaaaaaaaaaaaaaaaaaaaaaaaaaaaaaaaaaaaaaaaaaaaaaaaaaaaaaaaaaaaaaaaaaaaaaaaaaaaaaaaaaaaaaaaaaaaaaaaaaaaaaaaaaaaaaaaaaaaaaaaaaaaaaaaaaaaaaaaaaaaaaaaaaaaaaaaaaaaaaaaaaaaaaaaaaaaaaaaaaaaaaaaaaaaaaaaaaaaaaaaaaaaaaaaaaaaaaaaaaaaaaaaaaaaaaaaaaaaaaaaaaaaaaaaaaaaaaaaaaaaaaaaaaaaaaaaaaaaaaaaaaaaaaaaaaaaaaaaaaaaaaaaaaaaaaaaaaaaaaaaaaaaaaaaaaaaaaaaaaaaaaaaaaaaaaaaaaaaaaaaaaaaaaaaaaaaaaaaaaaaaaaaaaaaaaaaaaaaaaaaaaaaaaaaaaaaaaaaaaaaaaaaaaaaaaaaaaaaaaaaaaaaaaaaaaaaaaaaaaaaaaaaaaaaaaaaaaaaaaaaaaaaaaaaaaaaaaaaaaaaaaaaaaaaaaaaaaaaaaaaaaaaaaaaaaaaaaaaaaaaaaaaaaaaaaaaaaaaaaaaaaaaaaaaaaaaaaaaaaaaaaaaaaaaaaaaaaaaaaaaaaaaaaaaaaaaaaaaaaaaaaaaaaaaaaaaaaaaaaaaaaaaaaaaaaaaaaaaaaaaaaaaaaaaaaaaaaaaaaaaaaaaaaaaaaaaaaaaaaaaaaaaaaaaaaaaaaaaaaaaaaaaaaaaaaaaaaaaaaaaaaaaaaaaaaaaaaaaaaaaaaaaaaaaaaaaaaaaaaaaaaaaaaaaaaaaaaaaaaaaaaaaaaaaaaaaaaaaaaaaaaaaaaaaaaaaaaaaaaaaaaaaaaaaaaaaaaaaaaaaaaaaaaaaaaaaaaaaaaaaaaaaaaaaaaaaaaaaaaaaaaaaaaaaaaaaaaaaaaaaaaaaaaaaaaaaaaaaaaaaaaaaaaaaaaaaaaaaaaaaaaaaaaaaaaaaaaaaaaaaaaaaaaaaaaaaaaaaaaaaaaaaaaaaaaaaaaaaaaaaaaaaaaaaaaaaaaaaaaaaaaaaaaaaaaaaaaaaaaaaaaaaaaaaaaaaaaaaaaaaaaaaaaaaaaaaaaaaaaaaaaaaaaaaaaaaaaaaaaaaaaaaaaaaaaaaaaaaaaaaaaaaaaaaaaaaaaaaaaaaaaaaaaaaaaaaaaaaaaaaaaaaaaaaaaaaaaaaaaaaaaaaaaaaaaaaaaaaaaaaaaaaaaaaaaaaaaaaaaaaaaaaaaaaaaaaaaaaaaaaaaaaaaaaaaaaaaaaaaaaaaaaaaaaaaaaaaaaaaaaaaaaaaaaaaaaaaaaaaaaaaaaaaaaaaaaaaaaaaaaaaaaaaaaaaaaaaaaaaaaaaaaaaaaaaaaaaaaaaaaaaaaaaaaaaaaaaaaaaaaaaaaaaaaaaaaaaaaaaaaaaaaaaaaaaaaaaaaaaaaaaaaaaaaaaaaaaaaaaaaaaaaaaaaaaaaaaaaaaaaaaaaaaaaaaaaaaaaaaaaaaaaaaaaaaaaaaaaaaaaaaaaaaaaaaaaaaaaaaaaaaaaaaaaaaaaaaaaaaaaaaaaaaaaaaaaaaaaaaaaaaaaaaaaaaaaaaaaaaaaaaaaaaaaaaaaaaaaaaaaaaaaaaaaaaaaaaaaaaaaaaaaaaaaaaaaaaaaaaaaaaaaaaaaaaaaaaaaaaaaaaaaaaaaaaaaaaaaaaaaaaaaaaaaaaaaaaaaaaaaaaaaaaaaaaaaaaaaaaaaaaaaaaaaaaaaaaaaaaaaaaaaaaaaaaaaaaaaaaaaaaaaaaaaaaaaaaaaaaaaaaaaaaaaaaaaaaaaaaaaaaaaaaaaaaaaaaaaaaaaaaaaaaaaaaaaaaaaaaaaaaaaaaaaaaaaaaaaaaaaaaaaaaaaaaaaaaaaaaaaaaaaaaaaaaaaaaaaaaaaaaaaaaaaaaaaaaaaaaaaaaaaaaaaaaaaaaaaaaaaaaaaaaaaaaaaaaaaaaaaaaaaaaaaaaaaaaaaaaaaaaaaaaaaaaaaaaaaaaaaaaaaaaaaaaaaaaaaaaaaaaaaaaaaaaaaaaaaaaaaaaaaaaaaaaaaaaaaaaaaaaaaaaaaaaaaaaaaaaaaaaaaaaaaaaaaaaaaaaaaaaaaaaaaaaaaaaaaaaaaaaaaaaaaaaaaaaaaaaaaaaaaaaaaaaaaaaaaaaaaaaaaaaaaaaaaaaaaaaaaaaaaaaaaaaaaaaaaaaaaaaaaaaaaaaaaaaaaaaaaaaaaaaaaaaaaaaaaaaaaaaaaaaaaaaaaaaaaaaaaaaaaaaaaaaaaaaaaaaaaaaaaaaaaaaaaaaaaaaaaaaaaaaaaaaaaaaaaaaaaaaaaaaaaaaaaaaaaaaaaaaaaaaaaaaaaaaaaaaaaaaaaaaaaaaaaaaaaaaaaaaaaaaaaaaaaaaaaaaaaaaaaaaaaaaaaaaaaaaaaaaaaaaaaaaaaaaaaaaaaaaaaaaaaaaaaaaaaaaaaaaaaaaaaaaaaaaaaaaaaaaaaaaaaaaaaaaaaaaaaaaaaaaaaaaaaaaaaaaaaaaaaaaaaaaaaaaaaaaaaaaaaaaaaaaaaaaaaaaaaaaaaaaaaaaaaaaaaaaaaaaaaaaaaaaaaaaaaaaaaaaaaaaaaaaaaaaaaaaaaaaaaaaaaaaaaaaaaaaaaaaaaaaaaaaaaaaaaaaaaaaaaaaaaaaaaaaaaaaaaaaaaaaaaaaaaaaaaaaaaaaaaaaaaaaaaaaaaaaaaaaaaaaaaaaaaaaaaaaaaaaaaaaaaaaaaaaaaaaaaaaaaaaaaaaaaaaaaaaaaaaaaaaaaaaaaaaaaaaaaaaaaaaaaaaaaaaaaaaaaaaaaaaaaaaaaaaaaaaaaaaaaaaaaaaaaaaaaaaaaaaaaaaaaaaaaaaaaaaaaaaaaaaaaaaaaaaaaaaaaaaaaaaaaaaaaaaaaaaaaaaaaaaaaaaaaaaaaaaaaaaaaaaaaaaaaaaaaaaaaaaaaaaaaaaaaaaaaaaaaaaaaaaaaaaaaaaaaaaaaaaaaaaaaaaaaaaaaaaaaaaaaaaaaaaaaaaaaaaaaaaaaaaaaaaaaaaaaaaaaaaab'\n",
    "\n",
    "bad_w_1 = 'ab'\n",
    "bad_w_2 = 'aaaaaaaaab'\n",
    "bad_w_3 = 'aaaaaaaaaaaaaaaaaaaaaaaaaaaaaaaaaaaaaaaaaaaaaaaaaaaaaaaaaaaaaaaaaaaaaaaaaaaaaaaaaaaaaaaaaaaaaaaaaaab'\n",
    "bad_w_4 = 'aaaaaaaaaaaaaaaaaaaaaaaaaaaaaaaaaaaaaaaaaaaaaaaaaaaaaaaaaaaaaaaaaaaaaaaaaaaaaaaaaaaaaaaaaaaaaaaaaaaaaaaaaaaaaaaaaaaaaaaaaaaaaaaaaaaaaaaaaaaaaaaaaaaaaaaaaaaaaaaaaaaaaaaaaaaaaaaaaaaaaaaaaaaaaaaaaaaaaaaaaaaaaaaaaaaaaaaaaaaaaaaaaaaaaaaaaaaaaaaaaaaaaaaaaaaaaaaaaaaaaaaaaaaaaaaaaaaaaaaaaaaaaaaaaaaaaaaaaaaaaaaaaaaaaaaaaaaaaaaaaaaaaaaaaaaaaaaaaaaaaaaaaaaaaaaaaaaaaaaaaaaaaaaaaaaaaaaaaaaaaaaaaaaaaaaaaaaaaaaaaaaaaaaaaaaaaaaaaaaaaaaaaaaaaaaaaaaaaaaaaaaaaaaaaaaaaaaaaaaaaaaaaaaaaaaaaaaaaaaaaaaaaaaaaaaaaaaaaaaaaaaaaaaaaaaaaaaaaaaaaaaaaaaaaaaaaaaaaaaaaaaaaaaaaaaaaaaaaaaaaaaaaaaaaaaaaaaaaaaaaaaaaaaaaaaaaaaaaaaaaaaaaaaaaaaaaaaaaaaaaaaaaaaaaaaaaaaaaaaaaaaaaaaaaaaaaaaaaaaaaaaaaaaaaaaaaaaaaaaaaaaaaaaaaaaaaaaaaaaaaaaaaaaaaaaaaaaaaaaaaaaaaaaaaaaaaaaaaaaaaaaaaaaaaaaaaaaaaaaaaaaaaaaaaaaaaaaaaaaaaaaaaaaaaaaaaaaaaaaaaaaaaaaaaaaaaaaaaaaaaaaaaaaaaaaaaaaaaaaaaaaaaaaaaaaaaaaaaaaaaaaaaaaaaaaaaaaaaaaaaaaaaaaaaaaaaaaaaaaaaaaaaaaaaaaaaaaaaaaaaaaaaaaaaaaaaaaaaaaaaaaaaaaaaaaaaaaaaaaaaaaaaaaaaaaaaaaaaaaaaaaaaaaaaaaaaaaaaaab'\n",
    "\n",
    "good_t_1 = 'Гостиная Анны Павловны начала понемногу наполняться. Приехала высшая знать Петербурга, люди самые разнородные по возрастам и характерам, но одинаковые по обществу, в каком все жили; приехала дочь князя Василия, красавица Элен, заехавшая за отцом, чтобы с ним вместе ехать на праздник посланника. Она была в шифре и бальном платье. Приехала и известная, как la femme la plus séduisante de Pétersbourg 1, молодая, маленькая княгиня Болконская, прошлую зиму вышедшая замуж и теперь не выезжавшая в большой свет по причине своей беременности, но ездившая еще на небольшие вечера. Приехал князь Ипполит, сын князя Василия, с Мортемаром, которого он представил; приехал и аббат Морио и многие другие.'\n",
    "good_t_2 = '''Маленькая княгиня, переваливаясь, маленькими быстрыми шажками обошла стол с рабочею сумочкой на руке и, весело оправляя платье, села на диван, около серебряного самовара, как будто все, что она ни делала, было partie de plaisir 3 для нее и для всех ее окружавших.\n",
    "— J'ai apporté mon ouvrage 4, — сказала она, развертывая свой ридикюль и обращаясь ко всем вместе.\n",
    "— Смотрите, Annette, ne me jouez pas un mauvais tour, — обратилась она к хозяйке. — Vous m'avez écrit que c'était une toute petite soirée; voyez comme je suis attifée 5.\n",
    "— Вы не знаете аббата Морио? Он очень интересный человек... — сказала она.\n",
    "— Да, я слышал про его план вечного мира, и это очень интересно, но едва ли возможно...\n",
    "— Вы думаете?.. — сказала Анна Павловна, чтобы сказать что-нибудь и вновь обратиться к своим занятиям хозяйки дома, но Пьер сделал обратную неучтивость. Прежде он, не дослушав слов собеседницы, ушел; теперь он остановил своим разговором собеседницу, которой нужно было от него уйти. Он, нагнув голову и расставив большие ноги, стал доказывать Анне Павловне, почему он полагал, что план аббата был химера.\n",
    "— Мы после поговорим, — сказала Анна Павловна, улыбаясь.\n",
    "'''\n",
    "good_t_3 = '''   Уже был второй час ночи, когда Пьер вышел от своего друга. Ночь была июньская, петербургская, бессумрачная ночь. Пьер сел в извозчичью коляску с намерением ехать домой. Но чем ближе он подъезжал, тем более он чувствовал невозможность заснуть в эту ночь, походившую более на вечер или на утро. Далеко было видно по пустым улицам. Ему представлялось оживленное прекрасное лицо князя Андрея, ему слышались его слова -- не об отношениях его к жене (это не занимало Пьера) -- но его слова о войне и о той будущности, которая могла ожидать его друга. Пьер так безусловно любил и преклонялся перед своим другом, что не мог допустить, чтобы князя Андрея, как скоро он сам того захочет, все не признали замечательным и великим человеком, которому свойственно повелевать, а не подчиняться. Пьер никак не мог представить себе, чтоб у кого бы то ни было, у Кутузова, например, достало духа отдавать приказания такому человеку, очевидно рожденному для первой роли во всем, каким представлялся ему князь Андрей. Он воображал себе своего друга перед войсками, на белом коне, с краткою и сильною речью в устах, воображал себе его храбрость, его успехи, геройство и все, что воображает большинство молодых людей для самих себя. Пьер вспомнил, что он обещался нынче отдать небольшой карточный долг Анатолю, у которого нынче вечером должно было собраться обычное игорное общество.\n",
    "   -- Пошел к Курагину, -- сказал он кучеру, думая только о том, где бы провести остаток ночи и совершенно забыв данное князю Андрею слово не бывать у Курагина.\n",
    "   Подъехав к крыльцу большого дома у конногвардейских казарм, в котором жил князь Анатоль Курагин, он вспоминал свое обещание, но тут же, как это бывает с людьми, называемыми бесхарактерными, ему так страстно захотелось войти взглянуть еще раз на эту столь знакомую и надоевшую ему беспутную жизнь, и невольно пришла в голову мысль, что данное слово ничего не значит, к тому же, еще прежде, чем князю Андрею, он дал также Анатолю слово привезти долг; наконец, он подумал, что все эти честные слова такие условные вещи, не имеющие никакого определенного смысла, особенно ежели сообразить, что, может быть, завтра же или он умрет, или случится с ним что-нибудь такое необыкновенное, что не будет уже ни честного, ни бесчестного.\n",
    "   Он поднялся на освещенное крыльцо, на лестницу, и вошел в отворенную дверь. В роскошной передней никого не было, валялись пустые бутылки, в углу гора изогнутых карт, плащи, калоши; пахло вином; слышался дальний говор и крик.\n",
    "   Видимо, игра и ужин уже кончились, но гости еще не разъезжались. Пьер скинул плащ и вошел в первую комнату, где посередине стояла статуя скаковой лошади во весь рост. Из третьей комнаты слышались яснее возня и знакомые хохот и крики человек шести или восьми. Он вошел в третью комнату, в которой стояли еще остатки ужина. Человек восемь молодых людей, все без сюртуков и большею частью в военных рейтузах, толпились около открытого окна и все вместе по-русски и по-французски кричали непонятные слова.\n",
    "   -- Держу за Чаплина сто! -- кричал один.\n",
    "   -- Смотри, не поддерживать! -- кричал другой.\n",
    "   -- Я за Долохова! -- кричал третий. -- Разними, Курагин.\n",
    "   -- Одним духом, иначе проиграно! -- кричал четвертый.\n",
    "   -- Яков, давай бутылку, Яков! -- кричал сам хозяин, высокий, статный красавец, стоявший посреди толпы. -- Стойте, господа. Вот он, Пьер!\n",
    "   -- А! Петр! Петруша! Петр Великий!\n",
    "   -- Петр толстый! -- закричали со всех сторон, обступая его.\n",
    "'''\n",
    "good_t_4 = '''   Уже был второй час ночи, когда Пьер вышел от своего друга. Ночь была июньская, петербургская, бессумрачная ночь. Пьер сел в извозчичью коляску с намерением ехать домой. Но чем ближе он подъезжал, тем более он чувствовал невозможность заснуть в эту ночь, походившую более на вечер или на утро. Далеко было видно по пустым улицам. Ему представлялось оживленное прекрасное лицо князя Андрея, ему слышались его слова -- не об отношениях его к жене (это не занимало Пьера) -- но его слова о войне и о той будущности, которая могла ожидать его друга. Пьер так безусловно любил и преклонялся перед своим другом, что не мог допустить, чтобы князя Андрея, как скоро он сам того захочет, все не признали замечательным и великим человеком, которому свойственно повелевать, а не подчиняться. Пьер никак не мог представить себе, чтоб у кого бы то ни было, у Кутузова, например, достало духа отдавать приказания такому человеку, очевидно рожденному для первой роли во всем, каким представлялся ему князь Андрей. Он воображал себе своего друга перед войсками, на белом коне, с краткою и сильною речью в устах, воображал себе его храбрость, его успехи, геройство и все, что воображает большинство молодых людей для самих себя. Пьер вспомнил, что он обещался нынче отдать небольшой карточный долг Анатолю, у которого нынче вечером должно было собраться обычное игорное общество.\n",
    "   -- Пошел к Курагину, -- сказал он кучеру, думая только о том, где бы провести остаток ночи и совершенно забыв данное князю Андрею слово не бывать у Курагина.\n",
    "   Подъехав к крыльцу большого дома у конногвардейских казарм, в котором жил князь Анатоль Курагин, он вспоминал свое обещание, но тут же, как это бывает с людьми, называемыми бесхарактерными, ему так страстно захотелось войти взглянуть еще раз на эту столь знакомую и надоевшую ему беспутную жизнь, и невольно пришла в голову мысль, что данное слово ничего не значит, к тому же, еще прежде, чем князю Андрею, он дал также Анатолю слово привезти долг; наконец, он подумал, что все эти честные слова такие условные вещи, не имеющие никакого определенного смысла, особенно ежели сообразить, что, может быть, завтра же или он умрет, или случится с ним что-нибудь такое необыкновенное, что не будет уже ни честного, ни бесчестного.\n",
    "   Он поднялся на освещенное крыльцо, на лестницу, и вошел в отворенную дверь. В роскошной передней никого не было, валялись пустые бутылки, в углу гора изогнутых карт, плащи, калоши; пахло вином; слышался дальний говор и крик.\n",
    "   Видимо, игра и ужин уже кончились, но гости еще не разъезжались. Пьер скинул плащ и вошел в первую комнату, где посередине стояла статуя скаковой лошади во весь рост. Из третьей комнаты слышались яснее возня и знакомые хохот и крики человек шести или восьми. Он вошел в третью комнату, в которой стояли еще остатки ужина. Человек восемь молодых людей, все без сюртуков и большею частью в военных рейтузах, толпились около открытого окна и все вместе по-русски и по-французски кричали непонятные слова.\n",
    "   -- Держу за Чаплина сто! -- кричал один.\n",
    "   -- Смотри, не поддерживать! -- кричал другой.\n",
    "   -- Я за Долохова! -- кричал третий. -- Разними, Курагин.\n",
    "   -- Одним духом, иначе проиграно! -- кричал четвертый.\n",
    "   -- Яков, давай бутылку, Яков! -- кричал сам хозяин, высокий, статный красавец, стоявший посреди толпы. -- Стойте, господа. Вот он, Пьер!\n",
    "   -- А! Петр! Петруша! Петр Великий!\n",
    "   -- Петр толстый! -- закричали со всех сторон, обступая его.\n",
    "   На всех, красных и с красными пятнами, молодых лицах выразилась радость при виде Пьера, который, сняв очки и протирая их, смотрел на всю эту толпу.\n",
    "   -- Ничего не понимаю. В чем дело? -- сказал он, благодушно улыбаясь.\n",
    "   -- Стойте, он не пьян. Дай бутылку, -- сказал Анатоль и, взяв со стола стакан, подошел к Пьеру.\n",
    "   -- Прежде всего пей.\n",
    "   Пьер молча стал пить стакан за стаканом, исподлобья оглядывая пьяных гостей, которые опять столпились у окна, толкуя о чем-то, ему непонятном. Он выпил один стакан залпом; Анатоль с значительным видом налил ему другой. Пьер покорно выпил, хотя и медленнее первого. Анатоль налил третий. Пьер выпил и этот, хотя остановился два раза, чтобы перевести дух. Анатоль стоял подле, серьезно глядя своими прекрасными большими глазами попеременно на стакан, на бутылку и на Пьера. Анатоль был красавец: высокий, полный, белый, румяный; грудь у него была так высока, что голова откидывалась назад, что придавало ему гордый вид. У него был прекрасный свежий рот, густые русые волосы, навыкате черные глаза и общее выражение силы, здоровья и добродушия свежей молодости. Но прекрасные глаза его с чудесными, правильными, черными бровями как будто были сделаны не столько для того, чтобы смотреть, сколько для того, чтобы на них смотрели. Они казались неспособными изменять выражение. Что он был пьян, это видно было только по его красному лицу, но еще более по неестественно выпученной груди и по разинутости глаз. Несмотря на то, что он был пьян и что верхняя часть его могущественного тела покрывалась только рубашкой, раскрытой на груди, -- по легкому запаху духов и мыла, который сливался вокруг него с запахом выпитого вина, по тщательно напомаженной утром прическе его волос, по изящной чистоте пухлых рук и тончайшего белья, по этой белизне и гладкой нежности кожи, -- и в теперешнем состоянии его был виден аристократ, в смысле вошедшего с детства в привычку тщательного и роскошного ухода за своею особой.\n",
    "   -- Ну, пей же всю! А? -- сказал он серьезно, подавая последний стакан Пьеру.\n",
    "   -- Нет, не хочу, -- сказал Пьер, запинаясь на половине стакана. -- Ну, в чем дело? -- прибавил он с видом человека, исполнившего приготовительную обязанность и теперь считающего себя вправе принять участие в общем деле.\n",
    "   -- Пей же всю. А? -- повторил Анатоль, шире разевая глаза, и поднял своею белою, голою до локтя рукой недопитый стакан. Он имел вид человека, делающего важное дело, потому что всю энергию свою в эту минуту он употреблял на то, чтобы держать стакан прямо, и сказать именно то, что он хотел сказать.\n",
    "   -- Говорю -- не хочу, -- отвечал Пьер, надевая очки и отходя прочь. -- О чем вы кричите? -- спросил он у толпы, собравшейся у окна.\n",
    "   Анатоль постоял, подумал, отдал стакан слуге и, слегка улыбнувшись своим красивым ртом, подошел тоже к окну.\n",
    "   По пятницам Анатоль Курагин принимал всех у себя, у него играли, ужинали и потом проводили ночь большею частью вне дома. В этот день игра в фараон завязалась продолжительная и большая. Анатоль проиграл немного, и так как он не имел страсти к игре, а играл по привычке, то скоро отстал. Один богач, лейб-гусар, проиграл много, а один семеновский офицер, Долохов, выиграл у всех. После игры, сели очень поздно ужинать. Весьма серьезный англичанин, выдававший себя за путешественника, сказал, что он полагал, по дошедшим до него сведениям, что русские гораздо сильнее пьют, чем он это нашел на деле. Он говорил, что в России пьют только шампанское, а что ежели пить ром, то он предлагает пари, что выпьет больше всех присутствовавших. Долохов, тот офицер, который больше всех выиграл в тот вечер, сказал, что просто о бутылке рома не стоит держать пари, а что он вызывается выпить ее, не отводя ее ото рта и сидя на окне третьего этажа со спущенными наружу ногами. Англичанин предложил пари. Анатоль принял пари за Долохова, то есть, что Долохов выпьет бутылку рома на окне. В ту минуту, когда вошел Пьер, лакеи вы?ставляли раму, чтобы можно было сесть на наружный подоконник. Окно в третьем этаже было достаточно высоко для того, чтоб упавший с него мог убиться до смерти. С разных сторон пьяные и дружелюбные лица рассказывали Пьеру, в чем дело, как будто полагая в том, что Пьер будет знать это дело, какую-то особенную важность.\n",
    "   Долохов был гвардейского пехотного полка офицер, среднего роста, мускулистый, как бы сбитый весь, с широкою и полною грудью, чрезвычайно курчавый и с светлыми голубыми глазами. Ему было лет двадцать пять. Он не носил усов, как и все пехотные офицеры, и рот его, самая поразительная черта его лица, был весь виден. Рот этот был чрезвычайно приятен, несмотря на то, что почти никогда не улыбался. Линии этого рта были замечательно тонко изогнуты. В середине верхняя губа энергически опускалась на крепкую нижнюю; острым клином в углах образовывалось постоянно что-то в роде двух улыбок, по одной с каждой стороны, и всё вместе в соединении с прямым, несколько наглым, но огненным и умным взглядом, составляло впечатление такое, что, проходя мимо этого лица, нельзя было не заметить его и не спросить, кто этот обладатель такого красивого и странного лица. Женщинам Долохов нравился, и он искренно был убежден, что безупречных женщин не бывает. Долохов был молодой человек хорошей фамилии, но не богатый; однако он жил роскошно и постоянно играл. Он почти всегда выигрывал; но никто, даже и в отсутствие его, не смел приписывать его постоянный успех чему-нибудь другому, кроме счастья, светлой головы и непоколебимой силы воли. В душе каждый, игравший с ним, предполагал в нем шулера, хотя и не смел сказать этого. Теперь, когда он затеял свое странное пари, пьяное общество приняло особенно живое участие в его намерении. И именно потому, что знавшие его знали, что сказанное им будет сделано. Пьер знал это также и потому только поздоровался с Долоховым и не пытался возражать против его намерения.\n",
    "   Остальное общество состояло из трех офицеров, англичанина, которого видали в Петербурге в самых разнообразных обществах, одного москвича-игрока, женатого толстяка, который был гораздо старше всех, но был однако на ты со всею этою молодежью.\n",
    "   Бутылка рому была принесена; раму, не пускавшую сесть на наружный откос окна, выламывали два лакея в штиблетах и кафтанах, видимо, торопившиеся и робевшие от советов и криков окружавших господ.\n",
    "   Анатоль с выпученной грудью, не переменяя выражения, не обходя и не прося посторониться, продавил своим сильным телом толпу у окна, подошел к раме и, обернув обе белые руки сюртуком, валявшимся на диване, ударил в стекла и пробил их.\n",
    "   -- Ну вот, ваше сиятельство, -- сказал лакей, -- только мешаете и ручки порежете.\n",
    "   -- Пошел, дурак, а?.. -- проговорил Анатоль, взялся за перекладины рамы и стал тянуть. Несколько рук взялись также за дело; потянули, и рама с треском выскочила из окна, так что тянувшие чуть не упали.\n",
    "   -- Всю вон, а то подумают, что я держусь, -- сказал Долохов.\n",
    "   -- Послушай, -- сказал Анатоль Пьеру. -- Понимаешь? Англичанин хвастает... а?.. национальность... а?.. хорошо?..\n",
    "   -- Хорошо, -- сказал Пьер, с замиранием сердца глядя на Долохова, который, взяв в руки бутылку рома, подходил к окну, из которого виднелся свет неба и сливавшихся на нем утренней и вечерней зари. Долохов, засучив для чего-то рукава рубашки, с бутылкою рома в руке, ловко вскочил на окно.\n",
    "'''\n",
    "\n",
    "good_w_1 = 'сын князя Василия'\n",
    "good_w_2 = 'Да, я слышал про его план вечного мира, и это очень интересно, но едва ли возможно...'\n",
    "good_w_3 = 'вспоминал свое обещание, но тут же, как это бывает с людьми, называемыми бесхарактерными, ему так страстно захотелось войти взглянуть еще раз на эту столь знакомую и надоевшую ему беспутную жизнь, и невольно пришла в голову мысль, что данное слово ничего не значит, к тому же, еще прежде, чем князю Андрею, он дал также Анатолю слово привезти долг; наконец, он подумал, что все эти'\n",
    "good_w_4 = 'Бутылка рому была принесена; раму, не пускавшую сесть на наружный откос окна, выламывали два'\n"
   ]
  },
  {
   "cell_type": "code",
   "execution_count": 11,
   "metadata": {},
   "outputs": [],
   "source": [
    "def check_time(f, *args):\n",
    "    start = time.time()\n",
    "    f(*args)\n",
    "    return time.time() - start"
   ]
  },
  {
   "cell_type": "code",
   "execution_count": 12,
   "metadata": {},
   "outputs": [
    {
     "name": "stdout",
     "output_type": "stream",
     "text": [
      "Test 1 время работы =  2.996206283569336e-05\n",
      "Test 2 время работы =  0.00019000768661499025\n",
      "Test 3 время работы =  0.001688385009765625\n",
      "Test 4 время работы =  0.008967461585998536\n",
      "Test 5 время работы =  0.0008904290199279785\n",
      "Test 6 время работы =  0.0014504766464233398\n",
      "Test 7 время работы =  0.004290735721588135\n",
      "Test 8 время работы =  0.013319027423858643\n"
     ]
    }
   ],
   "source": [
    "mas_text = [bad_t_1, bad_t_2, bad_t_3, bad_t_4, good_t_1, good_t_2, good_t_3, good_t_4]\n",
    "mas_pat = [bad_w_1, bad_w_2, bad_w_3, bad_w_4, good_w_1, good_w_2, good_w_3, good_w_4]\n",
    "\n",
    "#Кнутт-Морисс_Пратт\n",
    "\n",
    "mas_time = []\n",
    "temp = 0.\n",
    "\n",
    "for i in range(8):\n",
    "    temp = 0.\n",
    "    for j in range(100):\n",
    "        temp += check_time(kn_mor_pr, mas_text[i], mas_pat[i])\n",
    "    print(\"Test\", i+1, \"время работы = \", temp/100)"
   ]
  },
  {
   "cell_type": "code",
   "execution_count": 13,
   "metadata": {},
   "outputs": [
    {
     "name": "stdout",
     "output_type": "stream",
     "text": [
      "Test 1 время работы =  9.901523590087891e-05\n",
      "Test 2 время работы =  0.0012005090713500977\n",
      "Test 3 время работы =  0.08015809059143067\n",
      "Test 4 время работы =  4.63578565120697\n",
      "Test 5 время работы =  0.0011996746063232422\n",
      "Test 6 время работы =  0.0015022039413452148\n",
      "Test 7 время работы =  0.004538416862487793\n",
      "Test 8 время работы =  0.013213706016540528\n"
     ]
    }
   ],
   "source": [
    "#Наивный\n",
    "\n",
    "mas_time = []\n",
    "temp = 0.\n",
    "\n",
    "for i in range(8):\n",
    "    temp = 0.\n",
    "    for j in range(10):\n",
    "        temp += check_time(naive, mas_text[i], mas_pat[i])\n",
    "    print(\"Test\", i+1, \"время работы = \", temp/10)"
   ]
  },
  {
   "cell_type": "markdown",
   "metadata": {},
   "source": [
    "<h3>Количество сравнений</h3>"
   ]
  },
  {
   "cell_type": "markdown",
   "metadata": {},
   "source": [
    "<h4>Кнут-морис-прат</h4>"
   ]
  },
  {
   "cell_type": "code",
   "execution_count": 14,
   "metadata": {},
   "outputs": [
    {
     "name": "stdout",
     "output_type": "stream",
     "text": [
      "Test 1 количество сравнений =  18 , позиции =  [8]\n",
      "Test 2 количество сравнений =  190 , позиции =  [90]\n",
      "Test 3 количество сравнений =  1900 , позиции =  [900]\n",
      "Test 4 количество сравнений =  9000 , позиции =  [4000]\n",
      "Test 5 количество сравнений =  697 , позиции =  [599]\n",
      "Test 6 количество сравнений =  1074 , позиции =  [610]\n",
      "Test 7 количество сравнений =  3150 , позиции =  [1629]\n",
      "Test 8 количество сравнений =  10623 , позиции =  [9522]\n"
     ]
    }
   ],
   "source": [
    "for i in range(8):\n",
    "    ans, comp = kn_mor_pr(mas_text[i], mas_pat[i])\n",
    "    print(\"Test\", i+1, \"количество сравнений = \", comp, \", позиции = \", ans)"
   ]
  },
  {
   "cell_type": "markdown",
   "metadata": {},
   "source": [
    "<h4>Наивный</h4>"
   ]
  },
  {
   "cell_type": "code",
   "execution_count": 15,
   "metadata": {},
   "outputs": [
    {
     "name": "stdout",
     "output_type": "stream",
     "text": [
      "Test 1 количество сравнений =  19 , позиции =  [8]\n",
      "Test 2 количество сравнений =  955 , позиции =  [90]\n",
      "Test 3 количество сравнений =  95050 , позиции =  [900]\n",
      "Test 4 количество сравнений =  4500500 , позиции =  [4000]\n",
      "Test 5 количество сравнений =  714 , позиции =  [599]\n",
      "Test 6 количество сравнений =  1158 , позиции =  [610]\n",
      "Test 7 количество сравнений =  3554 , позиции =  [1629]\n",
      "Test 8 количество сравнений =  10714 , позиции =  [9522]\n"
     ]
    }
   ],
   "source": [
    "for i in range(8):\n",
    "    ans, comp = naive(mas_text[i], mas_pat[i])\n",
    "    print(\"Test\", i+1, \"количество сравнений = \", comp, \", позиции = \", ans)"
   ]
  }
 ],
 "metadata": {
  "kernelspec": {
   "display_name": "Python 3",
   "language": "python",
   "name": "python3"
  },
  "language_info": {
   "codemirror_mode": {
    "name": "ipython",
    "version": 3
   },
   "file_extension": ".py",
   "mimetype": "text/x-python",
   "name": "python",
   "nbconvert_exporter": "python",
   "pygments_lexer": "ipython3",
   "version": "3.8.3"
  }
 },
 "nbformat": 4,
 "nbformat_minor": 4
}
